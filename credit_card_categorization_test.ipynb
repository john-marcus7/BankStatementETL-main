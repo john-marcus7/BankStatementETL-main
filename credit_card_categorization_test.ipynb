{
 "cells": [
  {
   "cell_type": "markdown",
   "metadata": {},
   "source": [
    "<h1 style=\"color:#FF6666;text-align:center;border-bottom: 3px double #FF6666;\">AI-powered Credit Card expenses categorization</h1>\n",
    "\n",
    "Studies notebook by Lucas Antonio O. Rodrigues, phD.\n"
   ]
  },
  {
   "cell_type": "code",
   "execution_count": 4,
   "metadata": {},
   "outputs": [],
   "source": [
    "from langchain_openai import ChatOpenAI\n",
    "from langchain.llms.ollama import Ollama\n",
    "from langchain.agents.agent_types import AgentType\n",
    "from langchain_experimental.agents.agent_toolkits import create_pandas_dataframe_agent\n",
    "from langchain.prompts import PromptTemplate\n",
    "import pandas as pd\n",
    "from dotenv import main\n",
    "import os\n",
    "import json\n",
    "\n",
    "main.load_dotenv()\n",
    "openai_api_key = os.getenv('OPENAI_API_KEY')\n",
    "\n",
    "chat_model = ChatOpenAI(temperature=0, model=\"gpt-3.5-turbo-0613\")\n",
    "llm = Ollama(\n",
    "    model=\"mistral:7b\",\n",
    "    verbose=False,\n",
    "    temperature=0,\n",
    "\n",
    ")"
   ]
  },
  {
   "cell_type": "markdown",
   "metadata": {},
   "source": [
    "Loading bank data"
   ]
  },
  {
   "cell_type": "code",
   "execution_count": 2,
   "metadata": {},
   "outputs": [
    {
     "data": {
      "text/html": [
       "<div>\n",
       "<style scoped>\n",
       "    .dataframe tbody tr th:only-of-type {\n",
       "        vertical-align: middle;\n",
       "    }\n",
       "\n",
       "    .dataframe tbody tr th {\n",
       "        vertical-align: top;\n",
       "    }\n",
       "\n",
       "    .dataframe thead th {\n",
       "        text-align: right;\n",
       "    }\n",
       "</style>\n",
       "<table border=\"1\" class=\"dataframe\">\n",
       "  <thead>\n",
       "    <tr style=\"text-align: right;\">\n",
       "      <th></th>\n",
       "      <th>Posted Date</th>\n",
       "      <th>Reference Number</th>\n",
       "      <th>Payee</th>\n",
       "      <th>Address</th>\n",
       "      <th>Amount</th>\n",
       "    </tr>\n",
       "  </thead>\n",
       "  <tbody>\n",
       "    <tr>\n",
       "      <th>0</th>\n",
       "      <td>2023-10-16</td>\n",
       "      <td>28806005720001400758945</td>\n",
       "      <td>Online payment from CHK 5219</td>\n",
       "      <td>0</td>\n",
       "      <td>145.75</td>\n",
       "    </tr>\n",
       "    <tr>\n",
       "      <th>1</th>\n",
       "      <td>2023-10-16</td>\n",
       "      <td>24055233288400340050802</td>\n",
       "      <td>SNACK SODA VENDING CHICAGO IL</td>\n",
       "      <td>CHICAGO       IL</td>\n",
       "      <td>-1.35</td>\n",
       "    </tr>\n",
       "    <tr>\n",
       "      <th>2</th>\n",
       "      <td>2023-10-16</td>\n",
       "      <td>24013393287001575757741</td>\n",
       "      <td>SOUTH LOOP MARKET-CERMAK CHICAGO IL</td>\n",
       "      <td>CHICAGO       IL</td>\n",
       "      <td>-41.49</td>\n",
       "    </tr>\n",
       "    <tr>\n",
       "      <th>3</th>\n",
       "      <td>2023-10-16</td>\n",
       "      <td>24247603287500836202405</td>\n",
       "      <td>PIZANOS PIZZA AND PASTA CHICAGO IL</td>\n",
       "      <td>CHICAGO       IL</td>\n",
       "      <td>-79.00</td>\n",
       "    </tr>\n",
       "    <tr>\n",
       "      <th>4</th>\n",
       "      <td>2023-10-14</td>\n",
       "      <td>24523923286900019573549</td>\n",
       "      <td>TOUS LES JOURS CHICAGO IL</td>\n",
       "      <td>CHICAGO       IL</td>\n",
       "      <td>-27.82</td>\n",
       "    </tr>\n",
       "  </tbody>\n",
       "</table>\n",
       "</div>"
      ],
      "text/plain": [
       "  Posted Date         Reference Number                                Payee  \\\n",
       "0  2023-10-16  28806005720001400758945         Online payment from CHK 5219   \n",
       "1  2023-10-16  24055233288400340050802        SNACK SODA VENDING CHICAGO IL   \n",
       "2  2023-10-16  24013393287001575757741  SOUTH LOOP MARKET-CERMAK CHICAGO IL   \n",
       "3  2023-10-16  24247603287500836202405   PIZANOS PIZZA AND PASTA CHICAGO IL   \n",
       "4  2023-10-14  24523923286900019573549            TOUS LES JOURS CHICAGO IL   \n",
       "\n",
       "             Address  Amount  \n",
       "0                  0  145.75  \n",
       "1  CHICAGO       IL    -1.35  \n",
       "2  CHICAGO       IL   -41.49  \n",
       "3  CHICAGO       IL   -79.00  \n",
       "4  CHICAGO       IL   -27.82  "
      ]
     },
     "execution_count": 2,
     "metadata": {},
     "output_type": "execute_result"
    }
   ],
   "source": [
    "BANK_DATA_PATH = \"data/csv/October2023_3633.csv\"\n",
    "\n",
    "df = pd.read_csv(BANK_DATA_PATH)\n",
    "df.fillna(0, inplace=True)\n",
    "\n",
    "df[\"Posted Date\"] = pd.to_datetime(df[\"Posted Date\"])\n",
    "df.head()"
   ]
  },
  {
   "cell_type": "markdown",
   "metadata": {},
   "source": [
    "Creating the Categorization parameters"
   ]
  },
  {
   "cell_type": "code",
   "execution_count": 3,
   "metadata": {},
   "outputs": [],
   "source": [
    "categories = [\n",
    "    \"Payment\",\n",
    "    \"Transportation\",\n",
    "    \"Food\",\n",
    "    \"Shopping\",\n",
    "    \"Service\",\n",
    "    \"Subscription\",\n",
    "    \"Farmacy\",\n",
    "    \"Entertainment\",\n",
    "    \"Pets\",\n",
    "    \"Other\"\n",
    "]\n",
    "\n",
    "transactions = df[\"Payee\"].to_json()"
   ]
  },
  {
   "cell_type": "code",
   "execution_count": 4,
   "metadata": {},
   "outputs": [],
   "source": [
    "category_template = \"\"\"\n",
    "You will be given a list of transactions from your bank account.\n",
    "Please categorize the following transactions using the rules below:\n",
    "1. Use ONLY the following categories: \n",
    "{categories}\n",
    "2. If you are not sure, use the categorie \"Other\".\n",
    "\n",
    "\n",
    "---\n",
    "The transactions are:\n",
    "{transactions}\n",
    "---\n",
    "you must answer using JSON format, with the following format:\n",
    "\n",
    "{{\n",
    "    \"transaction_id\": \"category\"\n",
    "}}\n",
    "\n",
    "PLEASE ANSWER USING ONLY THE JSON FORMAT ABOVE.\n",
    "\"\"\"\n",
    "\n",
    "category_prompt_template = PromptTemplate.from_template(category_template)\n",
    "prompt = category_prompt_template.format(transactions=transactions, categories=categories)\n"
   ]
  },
  {
   "cell_type": "code",
   "execution_count": 5,
   "metadata": {},
   "outputs": [
    {
     "data": {
      "text/html": [
       "<div>\n",
       "<style scoped>\n",
       "    .dataframe tbody tr th:only-of-type {\n",
       "        vertical-align: middle;\n",
       "    }\n",
       "\n",
       "    .dataframe tbody tr th {\n",
       "        vertical-align: top;\n",
       "    }\n",
       "\n",
       "    .dataframe thead th {\n",
       "        text-align: right;\n",
       "    }\n",
       "</style>\n",
       "<table border=\"1\" class=\"dataframe\">\n",
       "  <thead>\n",
       "    <tr style=\"text-align: right;\">\n",
       "      <th></th>\n",
       "      <th>Posted Date</th>\n",
       "      <th>Reference Number</th>\n",
       "      <th>Payee</th>\n",
       "      <th>Address</th>\n",
       "      <th>Amount</th>\n",
       "      <th>category</th>\n",
       "    </tr>\n",
       "  </thead>\n",
       "  <tbody>\n",
       "    <tr>\n",
       "      <th>0</th>\n",
       "      <td>2023-10-16</td>\n",
       "      <td>28806005720001400758945</td>\n",
       "      <td>Online payment from CHK 5219</td>\n",
       "      <td>0</td>\n",
       "      <td>145.75</td>\n",
       "      <td>Payment</td>\n",
       "    </tr>\n",
       "    <tr>\n",
       "      <th>1</th>\n",
       "      <td>2023-10-16</td>\n",
       "      <td>24055233288400340050802</td>\n",
       "      <td>SNACK SODA VENDING CHICAGO IL</td>\n",
       "      <td>CHICAGO       IL</td>\n",
       "      <td>-1.35</td>\n",
       "      <td>Food</td>\n",
       "    </tr>\n",
       "    <tr>\n",
       "      <th>2</th>\n",
       "      <td>2023-10-16</td>\n",
       "      <td>24013393287001575757741</td>\n",
       "      <td>SOUTH LOOP MARKET-CERMAK CHICAGO IL</td>\n",
       "      <td>CHICAGO       IL</td>\n",
       "      <td>-41.49</td>\n",
       "      <td>Food</td>\n",
       "    </tr>\n",
       "    <tr>\n",
       "      <th>3</th>\n",
       "      <td>2023-10-16</td>\n",
       "      <td>24247603287500836202405</td>\n",
       "      <td>PIZANOS PIZZA AND PASTA CHICAGO IL</td>\n",
       "      <td>CHICAGO       IL</td>\n",
       "      <td>-79.00</td>\n",
       "      <td>Food</td>\n",
       "    </tr>\n",
       "    <tr>\n",
       "      <th>4</th>\n",
       "      <td>2023-10-14</td>\n",
       "      <td>24523923286900019573549</td>\n",
       "      <td>TOUS LES JOURS CHICAGO IL</td>\n",
       "      <td>CHICAGO       IL</td>\n",
       "      <td>-27.82</td>\n",
       "      <td>Food</td>\n",
       "    </tr>\n",
       "  </tbody>\n",
       "</table>\n",
       "</div>"
      ],
      "text/plain": [
       "  Posted Date         Reference Number                                Payee  \\\n",
       "0  2023-10-16  28806005720001400758945         Online payment from CHK 5219   \n",
       "1  2023-10-16  24055233288400340050802        SNACK SODA VENDING CHICAGO IL   \n",
       "2  2023-10-16  24013393287001575757741  SOUTH LOOP MARKET-CERMAK CHICAGO IL   \n",
       "3  2023-10-16  24247603287500836202405   PIZANOS PIZZA AND PASTA CHICAGO IL   \n",
       "4  2023-10-14  24523923286900019573549            TOUS LES JOURS CHICAGO IL   \n",
       "\n",
       "             Address  Amount category  \n",
       "0                  0  145.75  Payment  \n",
       "1  CHICAGO       IL    -1.35     Food  \n",
       "2  CHICAGO       IL   -41.49     Food  \n",
       "3  CHICAGO       IL   -79.00     Food  \n",
       "4  CHICAGO       IL   -27.82     Food  "
      ]
     },
     "execution_count": 5,
     "metadata": {},
     "output_type": "execute_result"
    }
   ],
   "source": [
    "response = chat_model.invoke(prompt)\n",
    "data_categories = json.loads(response.content)\n",
    "# response = llm(prompt)\n",
    "# data_categories = json.loads(response)\n",
    "df_categorized = df.join(pd.Series(data_categories,name=\"category\").reset_index(drop=True))\n",
    "df_categorized.head()"
   ]
  },
  {
   "cell_type": "code",
   "execution_count": 6,
   "metadata": {},
   "outputs": [
    {
     "data": {
      "text/html": [
       "<div>\n",
       "<style scoped>\n",
       "    .dataframe tbody tr th:only-of-type {\n",
       "        vertical-align: middle;\n",
       "    }\n",
       "\n",
       "    .dataframe tbody tr th {\n",
       "        vertical-align: top;\n",
       "    }\n",
       "\n",
       "    .dataframe thead th {\n",
       "        text-align: right;\n",
       "    }\n",
       "</style>\n",
       "<table border=\"1\" class=\"dataframe\">\n",
       "  <thead>\n",
       "    <tr style=\"text-align: right;\">\n",
       "      <th></th>\n",
       "      <th>Posted Date</th>\n",
       "      <th>Reference Number</th>\n",
       "      <th>Payee</th>\n",
       "      <th>Address</th>\n",
       "      <th>Amount</th>\n",
       "      <th>category</th>\n",
       "    </tr>\n",
       "  </thead>\n",
       "  <tbody>\n",
       "    <tr>\n",
       "      <th>1</th>\n",
       "      <td>2023-10-16</td>\n",
       "      <td>24055233288400340050802</td>\n",
       "      <td>SNACK SODA VENDING CHICAGO IL</td>\n",
       "      <td>CHICAGO       IL</td>\n",
       "      <td>1.35</td>\n",
       "      <td>Food</td>\n",
       "    </tr>\n",
       "    <tr>\n",
       "      <th>2</th>\n",
       "      <td>2023-10-16</td>\n",
       "      <td>24013393287001575757741</td>\n",
       "      <td>SOUTH LOOP MARKET-CERMAK CHICAGO IL</td>\n",
       "      <td>CHICAGO       IL</td>\n",
       "      <td>41.49</td>\n",
       "      <td>Food</td>\n",
       "    </tr>\n",
       "    <tr>\n",
       "      <th>3</th>\n",
       "      <td>2023-10-16</td>\n",
       "      <td>24247603287500836202405</td>\n",
       "      <td>PIZANOS PIZZA AND PASTA CHICAGO IL</td>\n",
       "      <td>CHICAGO       IL</td>\n",
       "      <td>79.00</td>\n",
       "      <td>Food</td>\n",
       "    </tr>\n",
       "    <tr>\n",
       "      <th>4</th>\n",
       "      <td>2023-10-14</td>\n",
       "      <td>24523923286900019573549</td>\n",
       "      <td>TOUS LES JOURS CHICAGO IL</td>\n",
       "      <td>CHICAGO       IL</td>\n",
       "      <td>27.82</td>\n",
       "      <td>Food</td>\n",
       "    </tr>\n",
       "    <tr>\n",
       "      <th>5</th>\n",
       "      <td>2023-10-10</td>\n",
       "      <td>24055233283400345058524</td>\n",
       "      <td>SNACK SODA VENDING CHICAGO IL</td>\n",
       "      <td>CHICAGO       IL</td>\n",
       "      <td>2.10</td>\n",
       "      <td>Food</td>\n",
       "    </tr>\n",
       "  </tbody>\n",
       "</table>\n",
       "</div>"
      ],
      "text/plain": [
       "  Posted Date         Reference Number                                Payee  \\\n",
       "1  2023-10-16  24055233288400340050802        SNACK SODA VENDING CHICAGO IL   \n",
       "2  2023-10-16  24013393287001575757741  SOUTH LOOP MARKET-CERMAK CHICAGO IL   \n",
       "3  2023-10-16  24247603287500836202405   PIZANOS PIZZA AND PASTA CHICAGO IL   \n",
       "4  2023-10-14  24523923286900019573549            TOUS LES JOURS CHICAGO IL   \n",
       "5  2023-10-10  24055233283400345058524        SNACK SODA VENDING CHICAGO IL   \n",
       "\n",
       "             Address  Amount category  \n",
       "1  CHICAGO       IL     1.35     Food  \n",
       "2  CHICAGO       IL    41.49     Food  \n",
       "3  CHICAGO       IL    79.00     Food  \n",
       "4  CHICAGO       IL    27.82     Food  \n",
       "5  CHICAGO       IL     2.10     Food  "
      ]
     },
     "execution_count": 6,
     "metadata": {},
     "output_type": "execute_result"
    }
   ],
   "source": [
    "df_categorized.drop(df_categorized.query(\"Amount > 0\").index, inplace=True)\n",
    "df_categorized['Amount'] = df_categorized['Amount'].abs()\n",
    "df_categorized.head()"
   ]
  },
  {
   "cell_type": "code",
   "execution_count": 7,
   "metadata": {},
   "outputs": [],
   "source": [
    "agent = create_pandas_dataframe_agent(\n",
    "#     llm=Ollama(\n",
    "#     model=\"llama2\",\n",
    "#     verbose=False,\n",
    "#     temperature=0,\n",
    "\n",
    "# ),\n",
    "    llm=chat_model,\n",
    "    df=df_categorized,\n",
    "    verbose=True,\n",
    "    agent_type=AgentType.OPENAI_FUNCTIONS,\n",
    "    agent_executor_kwargs={\"handle_parsing_errors\":True}\n",
    ")"
   ]
  },
  {
   "cell_type": "markdown",
   "metadata": {},
   "source": [
    "# Generating meaningful insights"
   ]
  },
  {
   "cell_type": "markdown",
   "metadata": {},
   "source": [
    "Creating Pydantic data models to handle model output format"
   ]
  },
  {
   "cell_type": "code",
   "execution_count": 8,
   "metadata": {},
   "outputs": [],
   "source": [
    "from typing import List,Union\n",
    "from langchain.output_parsers import PydanticOutputParser, OutputFixingParser\n",
    "from langchain.pydantic_v1 import BaseModel, Field, validator"
   ]
  },
  {
   "cell_type": "code",
   "execution_count": 9,
   "metadata": {},
   "outputs": [],
   "source": [
    "CHART_TYPES = ['bar', 'line', 'pie', 'scatter', 'area', 'doughnut','table']\n",
    "\n",
    "class Chart(BaseModel):\n",
    "    title: str = Field(description=\"The title of the chart\")\n",
    "    type: str = Field(description=\"The type of the chart. should be one of the 'CHART_TYPES'\")\n",
    "    labels: List[str] = Field(description=\"The labels of the chart\")\n",
    "    datasets: List[List[float]] = Field(description=\"The datasets of the chart. Should be one list of floats for each label in the labels list\")\n",
    "\n",
    "    @validator('type')\n",
    "    def type_must_be_valid(cls, v):\n",
    "        if v is None:\n",
    "            return v\n",
    "        if v not in CHART_TYPES:\n",
    "            raise ValueError(f\"type must be one of the following: {CHART_TYPES}\")\n",
    "        return v\n",
    "    \n",
    "\n",
    "class InsightResponse(BaseModel):\n",
    "    answer: str = Field(description=\"The answer to the question\")\n",
    "    chart: Union[Chart,None] = Field(description=\"The chart of the answer\")\n",
    "\n",
    "class SqlChart(BaseModel):\n",
    "    type: str = Field(description=\"The type of the chart. should be one of the 'CHART_TYPES'\")\n",
    "    title: str = Field(description=\"The title of the chart\")\n",
    "    labels: List[str] = Field(description=\"The labels of the chart\")\n",
    "\n",
    "    @validator('type')\n",
    "    def type_must_be_valid(cls, v):\n",
    "        if v is None:\n",
    "            return v\n",
    "        if v not in CHART_TYPES:\n",
    "            raise ValueError(f\"type must be one of the following: {CHART_TYPES}\")\n",
    "        return v"
   ]
  },
  {
   "cell_type": "code",
   "execution_count": 10,
   "metadata": {},
   "outputs": [],
   "source": [
    "pydantic_output_parser = PydanticOutputParser(pydantic_object=InsightResponse)\n",
    "\n",
    "format_instructions = pydantic_output_parser.get_format_instructions()\n",
    "\n",
    "new_parser = OutputFixingParser.from_llm(parser=pydantic_output_parser,llm=chat_model)"
   ]
  },
  {
   "cell_type": "code",
   "execution_count": 11,
   "metadata": {},
   "outputs": [
    {
     "name": "stdout",
     "output_type": "stream",
     "text": [
      "\n",
      "\n",
      "\u001b[1m> Entering new AgentExecutor chain...\u001b[0m\n",
      "\u001b[32;1m\u001b[1;3mCould not parse tool input: {'arguments': 'import pandas as pd\\n\\n# Calculate the total amount spent for each category\\ncategory_spending = df.groupby(\\'category\\')[\\'Amount\\'].sum().reset_index()\\n\\n# Find the category with the highest spending\\nmax_spending_category = category_spending.loc[category_spending[\\'Amount\\'].idxmax(), \\'category\\']\\n\\n# Create the answer string\\nanswer = f\"The category with the highest spending is {max_spending_category}.\"\\n\\n# Create the chart\\nchart = {\\n    \"title\": \"Spending by Category\",\\n    \"type\": \"bar\",\\n    \"labels\": category_spending[\\'category\\'].tolist(),\\n    \"datasets\": [category_spending[\\'Amount\\'].tolist()]\\n}\\n\\n# Format the output\\noutput = {\\n    \"answer\": answer,\\n    \"chart\": chart\\n}\\n\\noutput', 'name': 'python'} because the `arguments` is not valid JSON.\u001b[0mInvalid or incomplete response\u001b[32;1m\u001b[1;3m\n",
      "Invoking: `python_repl_ast` with `{'query': 'import pandas as pd\\n\\n# Calculate the total amount spent for each category\\ncategory_spending = df.groupby(\\'category\\')[\\'Amount\\'].sum().reset_index()\\n\\n# Find the category with the highest spending\\nmax_spending_category = category_spending.loc[category_spending[\\'Amount\\'].idxmax(), \\'category\\']\\n\\n# Create the answer string\\nanswer = f\"The category with the highest spending is {max_spending_category}.\"\\n\\n# Create the chart\\nchart = {\\n    \"title\": \"Spending by Category\",\\n    \"type\": \"bar\",\\n    \"labels\": category_spending[\\'category\\'].tolist(),\\n    \"datasets\": [category_spending[\\'Amount\\'].tolist()]\\n}\\n\\n# Format the output\\noutput = {\\n    \"answer\": answer,\\n    \"chart\": chart\\n}\\n\\noutput'}`\n",
      "\n",
      "\n",
      "\u001b[0m\u001b[36;1m\u001b[1;3m{'answer': 'The category with the highest spending is Food.', 'chart': {'title': 'Spending by Category', 'type': 'bar', 'labels': ['Entertainment', 'Farmacy', 'Food', 'Other', 'Payment', 'Shopping', 'Transportation'], 'datasets': [[94.39, 116.08, 1198.69, 1003.16, 66.71, 156.59, 86.50999999999999]]}}\u001b[0m\u001b[32;1m\u001b[1;3m{\n",
      "  \"answer\": \"The category with the highest spending is Food.\",\n",
      "  \"chart\": {\n",
      "    \"title\": \"Spending by Category\",\n",
      "    \"type\": \"bar\",\n",
      "    \"labels\": [\"Entertainment\", \"Farmacy\", \"Food\", \"Other\", \"Payment\", \"Shopping\", \"Transportation\"],\n",
      "    \"datasets\": [[94.39, 116.08, 1198.69, 1003.16, 66.71, 156.59, 86.51]]\n",
      "  }\n",
      "}\n",
      "{\n",
      "  \"answer\": \"The category with the highest spending is Food.\",\n",
      "  \"chart\": {\n",
      "    \"title\": \"Spending by Category\",\n",
      "    \"type\": \"bar\",\n",
      "    \"labels\": [\"Entertainment\", \"Farmacy\", \"Food\", \"Other\", \"Payment\", \"Shopping\", \"Transportation\"],\n",
      "    \"datasets\": [[94.39, 116.08, 1198.69, 1003.16, 66.71, 156.59, 86.51]]\n",
      "  }\n",
      "}\u001b[0m\n",
      "\n",
      "\u001b[1m> Finished chain.\u001b[0m\n",
      "Output parsing failed. Trying to fix the output...\n"
     ]
    },
    {
     "data": {
      "text/plain": [
       "InsightResponse(answer='The category with the highest spending is Food.', chart=Chart(title='Spending by Category', type='bar', labels=['Entertainment', 'Farmacy', 'Food', 'Other', 'Payment', 'Shopping', 'Transportation'], datasets=[[94.39, 116.08, 1198.69, 1003.16, 66.71, 156.59, 86.51]]))"
      ]
     },
     "execution_count": 11,
     "metadata": {},
     "output_type": "execute_result"
    }
   ],
   "source": [
    "insight_template = \"\"\"\n",
    "Answer the following query:\n",
    "{query}\n",
    "Your answer should follow the following rules:\n",
    "1. the answer to the query should be a text and a chart or a table.\n",
    "2. You should decide if the answer should be a chart or a table.\n",
    "3. The chart can be one of the following types: {chart_types}.\n",
    "4. If you can't build a chart of the types of item 3, leave chart as \"None\".\n",
    "5. Use ONLY the format instructions below to format your answer.\n",
    "\n",
    "{format_instructions}\n",
    "\"\"\"\n",
    "\n",
    "query = \"What category did I spend the most money on?\"\n",
    "\n",
    "insight_prompt_template = PromptTemplate.from_template(insight_template)\n",
    "prompt = insight_prompt_template.format(query=query, chart_types=CHART_TYPES, format_instructions=format_instructions)\n",
    "\n",
    "insight_response = agent.run(prompt)\n",
    "try:\n",
    "    insight = pydantic_output_parser.parse(insight_response)\n",
    "except ValueError:\n",
    "    print(\"Output parsing failed. Trying to fix the output...\")\n",
    "    insight = new_parser.parse(insight_response)\n",
    "insight"
   ]
  },
  {
   "cell_type": "code",
   "execution_count": null,
   "metadata": {},
   "outputs": [
    {
     "name": "stdout",
     "output_type": "stream",
     "text": [
      "The category with the highest spending is Food.\n"
     ]
    },
    {
     "data": {
      "application/vnd.plotly.v1+json": {
       "config": {
        "plotlyServerURL": "https://plot.ly"
       },
       "data": [
        {
         "name": "Entertainment",
         "type": "bar",
         "x": [
          "Entertainment",
          "Farmacy",
          "Food",
          "Other",
          "Payment",
          "Shopping",
          "Transportation"
         ],
         "y": [
          94.39,
          116.08,
          1198.69,
          1003.16,
          66.71,
          156.59,
          86.51
         ]
        }
       ],
       "layout": {
        "template": {
         "data": {
          "bar": [
           {
            "error_x": {
             "color": "#f2f5fa"
            },
            "error_y": {
             "color": "#f2f5fa"
            },
            "marker": {
             "line": {
              "color": "rgb(17,17,17)",
              "width": 0.5
             },
             "pattern": {
              "fillmode": "overlay",
              "size": 10,
              "solidity": 0.2
             }
            },
            "type": "bar"
           }
          ],
          "barpolar": [
           {
            "marker": {
             "line": {
              "color": "rgb(17,17,17)",
              "width": 0.5
             },
             "pattern": {
              "fillmode": "overlay",
              "size": 10,
              "solidity": 0.2
             }
            },
            "type": "barpolar"
           }
          ],
          "carpet": [
           {
            "aaxis": {
             "endlinecolor": "#A2B1C6",
             "gridcolor": "#506784",
             "linecolor": "#506784",
             "minorgridcolor": "#506784",
             "startlinecolor": "#A2B1C6"
            },
            "baxis": {
             "endlinecolor": "#A2B1C6",
             "gridcolor": "#506784",
             "linecolor": "#506784",
             "minorgridcolor": "#506784",
             "startlinecolor": "#A2B1C6"
            },
            "type": "carpet"
           }
          ],
          "choropleth": [
           {
            "colorbar": {
             "outlinewidth": 0,
             "ticks": ""
            },
            "type": "choropleth"
           }
          ],
          "contour": [
           {
            "colorbar": {
             "outlinewidth": 0,
             "ticks": ""
            },
            "colorscale": [
             [
              0,
              "#0d0887"
             ],
             [
              0.1111111111111111,
              "#46039f"
             ],
             [
              0.2222222222222222,
              "#7201a8"
             ],
             [
              0.3333333333333333,
              "#9c179e"
             ],
             [
              0.4444444444444444,
              "#bd3786"
             ],
             [
              0.5555555555555556,
              "#d8576b"
             ],
             [
              0.6666666666666666,
              "#ed7953"
             ],
             [
              0.7777777777777778,
              "#fb9f3a"
             ],
             [
              0.8888888888888888,
              "#fdca26"
             ],
             [
              1,
              "#f0f921"
             ]
            ],
            "type": "contour"
           }
          ],
          "contourcarpet": [
           {
            "colorbar": {
             "outlinewidth": 0,
             "ticks": ""
            },
            "type": "contourcarpet"
           }
          ],
          "heatmap": [
           {
            "colorbar": {
             "outlinewidth": 0,
             "ticks": ""
            },
            "colorscale": [
             [
              0,
              "#0d0887"
             ],
             [
              0.1111111111111111,
              "#46039f"
             ],
             [
              0.2222222222222222,
              "#7201a8"
             ],
             [
              0.3333333333333333,
              "#9c179e"
             ],
             [
              0.4444444444444444,
              "#bd3786"
             ],
             [
              0.5555555555555556,
              "#d8576b"
             ],
             [
              0.6666666666666666,
              "#ed7953"
             ],
             [
              0.7777777777777778,
              "#fb9f3a"
             ],
             [
              0.8888888888888888,
              "#fdca26"
             ],
             [
              1,
              "#f0f921"
             ]
            ],
            "type": "heatmap"
           }
          ],
          "heatmapgl": [
           {
            "colorbar": {
             "outlinewidth": 0,
             "ticks": ""
            },
            "colorscale": [
             [
              0,
              "#0d0887"
             ],
             [
              0.1111111111111111,
              "#46039f"
             ],
             [
              0.2222222222222222,
              "#7201a8"
             ],
             [
              0.3333333333333333,
              "#9c179e"
             ],
             [
              0.4444444444444444,
              "#bd3786"
             ],
             [
              0.5555555555555556,
              "#d8576b"
             ],
             [
              0.6666666666666666,
              "#ed7953"
             ],
             [
              0.7777777777777778,
              "#fb9f3a"
             ],
             [
              0.8888888888888888,
              "#fdca26"
             ],
             [
              1,
              "#f0f921"
             ]
            ],
            "type": "heatmapgl"
           }
          ],
          "histogram": [
           {
            "marker": {
             "pattern": {
              "fillmode": "overlay",
              "size": 10,
              "solidity": 0.2
             }
            },
            "type": "histogram"
           }
          ],
          "histogram2d": [
           {
            "colorbar": {
             "outlinewidth": 0,
             "ticks": ""
            },
            "colorscale": [
             [
              0,
              "#0d0887"
             ],
             [
              0.1111111111111111,
              "#46039f"
             ],
             [
              0.2222222222222222,
              "#7201a8"
             ],
             [
              0.3333333333333333,
              "#9c179e"
             ],
             [
              0.4444444444444444,
              "#bd3786"
             ],
             [
              0.5555555555555556,
              "#d8576b"
             ],
             [
              0.6666666666666666,
              "#ed7953"
             ],
             [
              0.7777777777777778,
              "#fb9f3a"
             ],
             [
              0.8888888888888888,
              "#fdca26"
             ],
             [
              1,
              "#f0f921"
             ]
            ],
            "type": "histogram2d"
           }
          ],
          "histogram2dcontour": [
           {
            "colorbar": {
             "outlinewidth": 0,
             "ticks": ""
            },
            "colorscale": [
             [
              0,
              "#0d0887"
             ],
             [
              0.1111111111111111,
              "#46039f"
             ],
             [
              0.2222222222222222,
              "#7201a8"
             ],
             [
              0.3333333333333333,
              "#9c179e"
             ],
             [
              0.4444444444444444,
              "#bd3786"
             ],
             [
              0.5555555555555556,
              "#d8576b"
             ],
             [
              0.6666666666666666,
              "#ed7953"
             ],
             [
              0.7777777777777778,
              "#fb9f3a"
             ],
             [
              0.8888888888888888,
              "#fdca26"
             ],
             [
              1,
              "#f0f921"
             ]
            ],
            "type": "histogram2dcontour"
           }
          ],
          "mesh3d": [
           {
            "colorbar": {
             "outlinewidth": 0,
             "ticks": ""
            },
            "type": "mesh3d"
           }
          ],
          "parcoords": [
           {
            "line": {
             "colorbar": {
              "outlinewidth": 0,
              "ticks": ""
             }
            },
            "type": "parcoords"
           }
          ],
          "pie": [
           {
            "automargin": true,
            "type": "pie"
           }
          ],
          "scatter": [
           {
            "marker": {
             "line": {
              "color": "#283442"
             }
            },
            "type": "scatter"
           }
          ],
          "scatter3d": [
           {
            "line": {
             "colorbar": {
              "outlinewidth": 0,
              "ticks": ""
             }
            },
            "marker": {
             "colorbar": {
              "outlinewidth": 0,
              "ticks": ""
             }
            },
            "type": "scatter3d"
           }
          ],
          "scattercarpet": [
           {
            "marker": {
             "colorbar": {
              "outlinewidth": 0,
              "ticks": ""
             }
            },
            "type": "scattercarpet"
           }
          ],
          "scattergeo": [
           {
            "marker": {
             "colorbar": {
              "outlinewidth": 0,
              "ticks": ""
             }
            },
            "type": "scattergeo"
           }
          ],
          "scattergl": [
           {
            "marker": {
             "line": {
              "color": "#283442"
             }
            },
            "type": "scattergl"
           }
          ],
          "scattermapbox": [
           {
            "marker": {
             "colorbar": {
              "outlinewidth": 0,
              "ticks": ""
             }
            },
            "type": "scattermapbox"
           }
          ],
          "scatterpolar": [
           {
            "marker": {
             "colorbar": {
              "outlinewidth": 0,
              "ticks": ""
             }
            },
            "type": "scatterpolar"
           }
          ],
          "scatterpolargl": [
           {
            "marker": {
             "colorbar": {
              "outlinewidth": 0,
              "ticks": ""
             }
            },
            "type": "scatterpolargl"
           }
          ],
          "scatterternary": [
           {
            "marker": {
             "colorbar": {
              "outlinewidth": 0,
              "ticks": ""
             }
            },
            "type": "scatterternary"
           }
          ],
          "surface": [
           {
            "colorbar": {
             "outlinewidth": 0,
             "ticks": ""
            },
            "colorscale": [
             [
              0,
              "#0d0887"
             ],
             [
              0.1111111111111111,
              "#46039f"
             ],
             [
              0.2222222222222222,
              "#7201a8"
             ],
             [
              0.3333333333333333,
              "#9c179e"
             ],
             [
              0.4444444444444444,
              "#bd3786"
             ],
             [
              0.5555555555555556,
              "#d8576b"
             ],
             [
              0.6666666666666666,
              "#ed7953"
             ],
             [
              0.7777777777777778,
              "#fb9f3a"
             ],
             [
              0.8888888888888888,
              "#fdca26"
             ],
             [
              1,
              "#f0f921"
             ]
            ],
            "type": "surface"
           }
          ],
          "table": [
           {
            "cells": {
             "fill": {
              "color": "#506784"
             },
             "line": {
              "color": "rgb(17,17,17)"
             }
            },
            "header": {
             "fill": {
              "color": "#2a3f5f"
             },
             "line": {
              "color": "rgb(17,17,17)"
             }
            },
            "type": "table"
           }
          ]
         },
         "layout": {
          "annotationdefaults": {
           "arrowcolor": "#f2f5fa",
           "arrowhead": 0,
           "arrowwidth": 1
          },
          "autotypenumbers": "strict",
          "coloraxis": {
           "colorbar": {
            "outlinewidth": 0,
            "ticks": ""
           }
          },
          "colorscale": {
           "diverging": [
            [
             0,
             "#8e0152"
            ],
            [
             0.1,
             "#c51b7d"
            ],
            [
             0.2,
             "#de77ae"
            ],
            [
             0.3,
             "#f1b6da"
            ],
            [
             0.4,
             "#fde0ef"
            ],
            [
             0.5,
             "#f7f7f7"
            ],
            [
             0.6,
             "#e6f5d0"
            ],
            [
             0.7,
             "#b8e186"
            ],
            [
             0.8,
             "#7fbc41"
            ],
            [
             0.9,
             "#4d9221"
            ],
            [
             1,
             "#276419"
            ]
           ],
           "sequential": [
            [
             0,
             "#0d0887"
            ],
            [
             0.1111111111111111,
             "#46039f"
            ],
            [
             0.2222222222222222,
             "#7201a8"
            ],
            [
             0.3333333333333333,
             "#9c179e"
            ],
            [
             0.4444444444444444,
             "#bd3786"
            ],
            [
             0.5555555555555556,
             "#d8576b"
            ],
            [
             0.6666666666666666,
             "#ed7953"
            ],
            [
             0.7777777777777778,
             "#fb9f3a"
            ],
            [
             0.8888888888888888,
             "#fdca26"
            ],
            [
             1,
             "#f0f921"
            ]
           ],
           "sequentialminus": [
            [
             0,
             "#0d0887"
            ],
            [
             0.1111111111111111,
             "#46039f"
            ],
            [
             0.2222222222222222,
             "#7201a8"
            ],
            [
             0.3333333333333333,
             "#9c179e"
            ],
            [
             0.4444444444444444,
             "#bd3786"
            ],
            [
             0.5555555555555556,
             "#d8576b"
            ],
            [
             0.6666666666666666,
             "#ed7953"
            ],
            [
             0.7777777777777778,
             "#fb9f3a"
            ],
            [
             0.8888888888888888,
             "#fdca26"
            ],
            [
             1,
             "#f0f921"
            ]
           ]
          },
          "colorway": [
           "#636efa",
           "#EF553B",
           "#00cc96",
           "#ab63fa",
           "#FFA15A",
           "#19d3f3",
           "#FF6692",
           "#B6E880",
           "#FF97FF",
           "#FECB52"
          ],
          "font": {
           "color": "#f2f5fa"
          },
          "geo": {
           "bgcolor": "rgb(17,17,17)",
           "lakecolor": "rgb(17,17,17)",
           "landcolor": "rgb(17,17,17)",
           "showlakes": true,
           "showland": true,
           "subunitcolor": "#506784"
          },
          "hoverlabel": {
           "align": "left"
          },
          "hovermode": "closest",
          "mapbox": {
           "style": "dark"
          },
          "paper_bgcolor": "rgb(17,17,17)",
          "plot_bgcolor": "rgb(17,17,17)",
          "polar": {
           "angularaxis": {
            "gridcolor": "#506784",
            "linecolor": "#506784",
            "ticks": ""
           },
           "bgcolor": "rgb(17,17,17)",
           "radialaxis": {
            "gridcolor": "#506784",
            "linecolor": "#506784",
            "ticks": ""
           }
          },
          "scene": {
           "xaxis": {
            "backgroundcolor": "rgb(17,17,17)",
            "gridcolor": "#506784",
            "gridwidth": 2,
            "linecolor": "#506784",
            "showbackground": true,
            "ticks": "",
            "zerolinecolor": "#C8D4E3"
           },
           "yaxis": {
            "backgroundcolor": "rgb(17,17,17)",
            "gridcolor": "#506784",
            "gridwidth": 2,
            "linecolor": "#506784",
            "showbackground": true,
            "ticks": "",
            "zerolinecolor": "#C8D4E3"
           },
           "zaxis": {
            "backgroundcolor": "rgb(17,17,17)",
            "gridcolor": "#506784",
            "gridwidth": 2,
            "linecolor": "#506784",
            "showbackground": true,
            "ticks": "",
            "zerolinecolor": "#C8D4E3"
           }
          },
          "shapedefaults": {
           "line": {
            "color": "#f2f5fa"
           }
          },
          "sliderdefaults": {
           "bgcolor": "#C8D4E3",
           "bordercolor": "rgb(17,17,17)",
           "borderwidth": 1,
           "tickwidth": 0
          },
          "ternary": {
           "aaxis": {
            "gridcolor": "#506784",
            "linecolor": "#506784",
            "ticks": ""
           },
           "baxis": {
            "gridcolor": "#506784",
            "linecolor": "#506784",
            "ticks": ""
           },
           "bgcolor": "rgb(17,17,17)",
           "caxis": {
            "gridcolor": "#506784",
            "linecolor": "#506784",
            "ticks": ""
           }
          },
          "title": {
           "x": 0.05
          },
          "updatemenudefaults": {
           "bgcolor": "#506784",
           "borderwidth": 0
          },
          "xaxis": {
           "automargin": true,
           "gridcolor": "#283442",
           "linecolor": "#506784",
           "ticks": "",
           "title": {
            "standoff": 15
           },
           "zerolinecolor": "#283442",
           "zerolinewidth": 2
          },
          "yaxis": {
           "automargin": true,
           "gridcolor": "#283442",
           "linecolor": "#506784",
           "ticks": "",
           "title": {
            "standoff": 15
           },
           "zerolinecolor": "#283442",
           "zerolinewidth": 2
          }
         }
        },
        "title": {
         "text": "Spending by Category"
        }
       }
      }
     },
     "metadata": {},
     "output_type": "display_data"
    }
   ],
   "source": [
    "import plotly.graph_objects as go\n",
    "\n",
    "if insight.chart is None:\n",
    "    print(insight.answer)\n",
    "else:\n",
    "    chart_data = insight.chart\n",
    "\n",
    "    fig = go.Figure(data=[\n",
    "        go.Bar(x=chart_data.labels, y=dataset, name=label)\n",
    "        for label, dataset in zip(chart_data.labels, chart_data.datasets)\n",
    "    ])\n",
    "\n",
    "    fig.update_layout(\n",
    "        title=chart_data.title,\n",
    "        template=\"plotly_dark\"\n",
    "    )\n",
    "\n",
    "    print(insight.answer)\n",
    "    fig.show()\n"
   ]
  },
  {
   "cell_type": "markdown",
   "metadata": {},
   "source": [
    "# Using SQL Agent"
   ]
  },
  {
   "cell_type": "code",
   "execution_count": 13,
   "metadata": {},
   "outputs": [],
   "source": [
    "from langchain.utilities.sql_database import SQLDatabase\n",
    "\n",
    "DB_PATH = \"data/transactions.sqlite\"\n",
    "\n",
    "db = SQLDatabase.from_uri(f\"sqlite:///{DB_PATH}\")\n",
    "\n",
    "def get_schema(_):\n",
    "    return db.get_table_info()\n",
    "\n",
    "def run_query(query):\n",
    "    return db.run(query.strip(\"`\"))"
   ]
  },
  {
   "cell_type": "code",
   "execution_count": 14,
   "metadata": {},
   "outputs": [],
   "source": [
    "pydantic_output_parser = PydanticOutputParser(pydantic_object=SqlChart)\n",
    "\n",
    "format_instructions = pydantic_output_parser.get_format_instructions()\n",
    "\n",
    "new_parser = OutputFixingParser.from_llm(parser=pydantic_output_parser,llm=llm)"
   ]
  },
  {
   "cell_type": "code",
   "execution_count": 16,
   "metadata": {},
   "outputs": [],
   "source": [
    "from langchain_core.output_parsers import StrOutputParser\n",
    "from langchain_core.runnables import RunnablePassthrough\n",
    "from langchain.prompts import ChatPromptTemplate\n",
    "\n",
    "sql_template = \"\"\"Based on the table schema below, write a SQL query that would answer the user's question:\n",
    "{schema}\n",
    "\n",
    "Question: {question}\n",
    "SQL Query:\"\"\"\n",
    "sql_prompt = ChatPromptTemplate.from_template(sql_template)\n",
    "\n",
    "natural_template = \"\"\"Based on the table schema below, question, sql query, and sql response, write a natural language response:\n",
    "{schema}\n",
    "\n",
    "Question: {question}\n",
    "SQL Query: {query}\n",
    "SQL Response: {response}\"\"\"\n",
    "prompt_response = ChatPromptTemplate.from_template(natural_template)\n",
    "\n",
    "sql_response = (\n",
    "    RunnablePassthrough.assign(schema=get_schema)\n",
    "    | sql_prompt\n",
    "    | llm.bind(stop=[\"\\nSQLResult:\"])\n",
    "    | StrOutputParser()\n",
    ")\n",
    "\n",
    "sql_agent = (\n",
    "    RunnablePassthrough.assign(query=sql_response)\n",
    "    | RunnablePassthrough.assign(\n",
    "        schema=get_schema,\n",
    "        response=lambda x: run_query(x[\"query\"]),\n",
    "    )\n",
    "    | prompt_response\n",
    "    | llm\n",
    ")"
   ]
  },
  {
   "cell_type": "code",
   "execution_count": 17,
   "metadata": {},
   "outputs": [
    {
     "name": "stdout",
     "output_type": "stream",
     "text": [
      "\n",
      "Based on the provided table schema, question, SQL query, and SQL response, it appears that the total amount of money spent on food in USD is -3271.1999999999985. This indicates a negative balance, which may not be accurate or meaningful in this context. It's possible that there are errors or inconsistencies in the data provided."
     ]
    }
   ],
   "source": [
    "question = {\"question\": \"What is the total amount of money spent on food in USD?\"}\n",
    "\n",
    "for chunk in sql_agent.stream(question):\n",
    "    print(chunk, end=\"\", flush=True)"
   ]
  },
  {
   "cell_type": "code",
   "execution_count": null,
   "metadata": {},
   "outputs": [],
   "source": [
    "chart_template = \"\"\"Based on the table schema below, question, sql query, and sql response, select a chart that would represent the \n",
    "response to the user's question, and indicate it using the format instructions below:\n",
    "\n",
    "{format_instructions}\n",
    "\n",
    "---\n",
    "Here are the table schema, question, sql query, and sql response:\n",
    "{schema}\n",
    "\n",
    "Question: {question}\n",
    "SQL Query: {query}\n",
    "SQL Response: {response}\n",
    "\n",
    "YOUR ANSWER SHOULD INCLUDE ONLY THE JSON FORMAT INSTRUCTIONS ABOVE.\"\"\"\n",
    "\n",
    "datasets_template = \"\"\"Based on the table schema, original SQL Query, and the chart json below, write a new SQL query to obtain the data for the chart:\n",
    "{schema}\n",
    "\n",
    "Original SQL Query: {query}\n",
    "Chart: {chart}\n",
    "\n",
    "your answer should be ONLY the SQL query.\"\"\"\n",
    "\n",
    "final_template = \"\"\"Based on the chart json and the datasets below, write a new chart JSON:\n",
    "Chart: {chart}\n",
    "Datasets: {datasets}\n",
    "\n",
    "your answer should be ONLY the chart JSON following the format instructions below:\n",
    "{format_instructions}\n",
    "\n",
    "DO NOT include any other text rather than the chart JSON.\"\"\"\n",
    "\n",
    "prompt_chart = ChatPromptTemplate.from_template(chart_template)\n",
    "dataset_prompt = ChatPromptTemplate.from_template(datasets_template)\n",
    "final_prompt = ChatPromptTemplate.from_template(final_template)\n",
    "\n",
    "def get_format_instructions_for_reference_chart(_):\n",
    "    pydantic_output_parser = PydanticOutputParser(pydantic_object=SqlChart)\n",
    "    return pydantic_output_parser.get_format_instructions()\n",
    "\n",
    "def get_format_instructions_for_insight_chart(_):\n",
    "    pydantic_output_parser = PydanticOutputParser(pydantic_object=InsightResponse)\n",
    "    return pydantic_output_parser.get_format_instructions()\n",
    "\n",
    "chart_agent = (\n",
    "    RunnablePassthrough.assign(query=sql_response)\n",
    "    | RunnablePassthrough.assign(\n",
    "        schema=get_schema,\n",
    "        response=lambda x: run_query(x[\"query\"]),\n",
    "        format_instructions=get_format_instructions_for_reference_chart\n",
    "    )\n",
    "    | prompt_chart\n",
    "    | llm\n",
    ")\n",
    "\n",
    "chart_response = (\n",
    "    RunnablePassthrough.assign(query=sql_response)\n",
    "    | RunnablePassthrough.assign(chart=chart_agent)\n",
    "    | RunnablePassthrough.assign(\n",
    "        schema=get_schema,\n",
    "        query=sql_response\n",
    "    )\n",
    "    | dataset_prompt\n",
    "    | llm\n",
    "    | StrOutputParser()\n",
    ")\n",
    "\n",
    "chart_generator = (\n",
    "    RunnablePassthrough.assign(query=sql_response)\n",
    "    | RunnablePassthrough.assign(chart=chart_agent)\n",
    "    | RunnablePassthrough.assign(new_query=chart_response)\n",
    "    | RunnablePassthrough.assign(\n",
    "        schema=get_schema,\n",
    "        datasets=lambda x: run_query(x[\"new_query\"].replace(\"sql\",\"\")),\n",
    "        format_instructions=get_format_instructions_for_insight_chart\n",
    "    )\n",
    "    | final_prompt\n",
    "    | llm\n",
    "    | StrOutputParser()\n",
    ")"
   ]
  },
  {
   "cell_type": "code",
   "execution_count": null,
   "metadata": {},
   "outputs": [
    {
     "name": "stdout",
     "output_type": "stream",
     "text": [
      "```\n",
      "{\n",
      "    \"type\": \"pie\",\n",
      "    \"title\": \"Total Spent by Category\",\n",
      "    \"labels\": [\n",
      "        {\"category_name\": \"ACCOMMODATION\"},\n",
      "        {\"category_name\": \"ENTERTAINMENT\"},\n",
      "        {\"category_name\": \"FARMACY\"},\n",
      "        {\"category_name\": \"FOOD\"},\n",
      "        {\"category_name\": \"INCOME\"},\n",
      "        {\"category_name\": \"OTHER\"},\n",
      "        {\"category_name\": \"PETS\"},\n",
      "        {\"category_name\": \"RENT\"},\n",
      "        {\"category_name\": \"RESTAURANT\"},\n",
      "        {\"category_name\": \"SERVICE\"},\n",
      "        {\"category_name\": \"SHOPPING\"},\n",
      "        {\"category_name\": \"SUBSCRIPTION\"},\n",
      "        {\"category_name\": \"TRANSFER\"},\n",
      "        {\"category_name\": \"TRANSPORTATION\"},\n",
      "        {\"category_name\": \"UTILITIES\"}\n",
      "    ],\n",
      "    \"datasets\": [\n",
      "        [-791.2299999999999, \"ACCOMMODATION\"],\n",
      "        [-6529.730000000003, \"ENTERTAINMENT\"],\n",
      "        [-4947.27, \"FARMACY\"],\n",
      "        [-66259.41999999982, \"FOOD\"],\n",
      "        [-30527.130000000012, \"INCOME\"],\n",
      "        [-78336.38999999994, \"OTHER\"],\n",
      "        [-25232.060000000012, \"PETS\"],\n",
      "        [-50878.54999999998, \"RENT\"],\n",
      "        [-1649.0900000000004, \"RESTAURANT\"],\n",
      "        [-2373.6900000000005, \"SERVICE\"],\n",
      "        [-198772.8399999999, \"SHOPPING\"],\n",
      "        [-6329.840000000001, \"SUBSCRIPTION\"],\n",
      "        [-81405.67999999996, \"TRANSFER\"],\n",
      "        [-12792.940000000011, \"TRANSPORTATION\"],\n",
      "        [-4089.4100000000003, \"UTILITIES\"]\n",
      "    ]\n",
      "}\n",
      "```\n"
     ]
    }
   ],
   "source": [
    "question = {\"question\": \"How much did I spent in between 1st and 30th of November per category? consider only the transactions of type 'debit'\"}\n",
    "\n",
    "agent_response = chart_generator.invoke(question)\n",
    "print(agent_response)"
   ]
  }
 ],
 "metadata": {
  "kernelspec": {
   "display_name": ".venv",
   "language": "python",
   "name": "python3"
  },
  "language_info": {
   "codemirror_mode": {
    "name": "ipython",
    "version": 3
   },
   "file_extension": ".py",
   "mimetype": "text/x-python",
   "name": "python",
   "nbconvert_exporter": "python",
   "pygments_lexer": "ipython3",
   "version": "3.11.0"
  }
 },
 "nbformat": 4,
 "nbformat_minor": 2
}
